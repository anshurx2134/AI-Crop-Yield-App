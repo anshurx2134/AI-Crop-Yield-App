{
 "cells": [
  {
   "cell_type": "code",
   "execution_count": 48,
   "id": "d01c30c5",
   "metadata": {},
   "outputs": [
    {
     "name": "stdout",
     "output_type": "stream",
     "text": [
      "The input data: \n",
      "     Rain Fall  Fertilizer Temperature  Nitrogen  Phosphorus  Potassium\n",
      "0      1230.0        80.0          28      80.0        24.0       20.0\n",
      "1       480.0        60.0          36      70.0        20.0       18.0\n",
      "2      1250.0        75.0          29      78.0        22.0       19.0\n",
      "3       450.0        65.0          35      70.0        19.0       18.0\n",
      "4      1200.0        80.0          27      79.0        22.0       19.0\n",
      "..        ...         ...         ...       ...         ...        ...\n",
      "95      425.0        60.0          39      65.0        19.0       17.0\n",
      "96     1220.0        79.0          28      77.0        23.0       21.0\n",
      "97      480.0        65.0          36      68.0        21.0       16.0\n",
      "98     1230.0        80.0          28      80.0        24.0       20.0\n",
      "99        NaN         NaN         NaN       NaN         NaN        NaN\n",
      "\n",
      "[100 rows x 6 columns]\n",
      "The target values: \n",
      " 0     12.0\n",
      "1      8.0\n",
      "2     11.0\n",
      "3      9.0\n",
      "4     11.0\n",
      "      ... \n",
      "95     6.5\n",
      "96    10.5\n",
      "97     7.0\n",
      "98    12.0\n",
      "99     NaN\n",
      "Name: Yield, Length: 100, dtype: float64\n"
     ]
    }
   ],
   "source": [
    "import pandas as pd \n",
    "from sklearn.model_selection import train_test_split\n",
    "from sklearn.linear_model import LinearRegression\n",
    "from sklearn.metrics import mean_absolute_error,mean_squared_error, r2_score\n",
    "import joblib\n",
    "\n",
    "df = pd.read_excel(\"crop_yield_datasheet.xlsx\")\n",
    "\n",
    "x = df[['Rain Fall', 'Fertilizer', 'Temperature', 'Nitrogen', 'Phosphorus', 'Potassium']]\n",
    "y = df['Yield']\n",
    "\n",
    "print(\"The input data: \\n\",x[:100])\n",
    "print(\"The target values: \\n\",y[:100])\n"
   ]
  },
  {
   "cell_type": "code",
   "execution_count": 49,
   "id": "520f81e0",
   "metadata": {
    "scrolled": true
   },
   "outputs": [
    {
     "name": "stdout",
     "output_type": "stream",
     "text": [
      "The x_train is :      Rain Fall  Fertilizer Temperature  Nitrogen  Phosphorus  Potassium\n",
      "49      450.0        50.0          37      60.0        18.0       15.0\n",
      "70     1245.0        77.0          27      75.0        22.0       20.0\n",
      "68     1225.0        75.0          29      77.0        23.0       19.0\n",
      "15      400.0        60.0          39      60.0        18.0       15.0\n",
      "39      440.0        58.0          37      66.0        22.0       18.0\n",
      "..        ...         ...         ...       ...         ...        ...\n",
      "60     1175.0        77.0          25      75.0        22.0       19.0\n",
      "71      450.0        59.0          40      67.0        18.0       16.0\n",
      "14     1250.0        70.0          24      70.0        22.0       18.0\n",
      "92     1150.0        78.0          29      77.0        21.0       18.0\n",
      "51      430.0        65.0          39      65.0        19.0       16.0\n",
      "\n",
      "[78 rows x 6 columns]\n",
      "The x_test is :      Rain Fall  Fertilizer Temperature  Nitrogen  Phosphorus  Potassium\n",
      "62     1200.0        75.0          27      79.0        21.0       20.0\n",
      "40     1275.0        78.0          28      77.0        23.0       21.0\n",
      "94     1250.0        77.0          28      78.0        23.0       20.0\n",
      "18     1150.0        77.0          28      76.0        23.0       20.0\n",
      "81      450.0        65.0          38      60.0        20.0       16.0\n",
      "83      450.0        65.0          39      70.0        20.0       19.0\n",
      "64     1200.0        75.0          27      76.0        21.0       19.0\n",
      "42     1175.0        78.0          28      75.0        23.0       22.0\n",
      "10     1280.0        80.0          26      80.0        24.0       20.0\n",
      "0      1230.0        80.0          28      80.0        24.0       20.0\n",
      "31      475.0        55.0          39      61.0        18.0       16.0\n",
      "75      475.0        58.0          39      68.0        19.0       16.0\n",
      "47      445.0        60.0          38      68.0        22.0       18.0\n",
      "26      400.0        60.0          39      60.0        18.0       15.0\n",
      "44     1250.0        80.0          26      78.0        23.0       19.0\n",
      "4      1200.0        80.0          27      79.0        22.0       19.0\n",
      "22      425.0        55.0          38      65.0        19.0       17.0\n",
      "12     1225.0        79.0          29      79.0        23.0       20.0\n",
      "90     1225.0        75.0          28      75.0        23.0       20.0\n",
      "73      475.0        72.0          36      71.0        21.0       17.0\n",
      "The y_train is :  49     6.0\n",
      "70     9.5\n",
      "68    10.0\n",
      "15     5.5\n",
      "39     8.0\n",
      "      ... \n",
      "60    11.0\n",
      "71     7.5\n",
      "14    11.0\n",
      "92     9.0\n",
      "51     6.0\n",
      "Name: Yield, Length: 78, dtype: float64\n",
      "The y_test is :  62    11.0\n",
      "40    11.0\n",
      "94     9.0\n",
      "18    11.0\n",
      "81     8.0\n",
      "83     8.5\n",
      "64    11.0\n",
      "42    11.0\n",
      "10    12.0\n",
      "0     12.0\n",
      "31     6.0\n",
      "75     7.5\n",
      "47     8.0\n",
      "26     6.0\n",
      "44    11.0\n",
      "4     11.0\n",
      "22     7.0\n",
      "12    11.0\n",
      "90    11.0\n",
      "73     7.0\n",
      "Name: Yield, dtype: float64\n"
     ]
    }
   ],
   "source": [
    "x_train,x_test, y_train, y_test= train_test_split(x[:98],y[:98],test_size=0.2, random_state=42)\n",
    "\n",
    "print(\"The x_train is : \",x_train[:100])\n",
    "print(\"The x_test is : \",x_test[:100])\n",
    "print(\"The y_train is : \",y_train[:100])\n",
    "print(\"The y_test is : \",y_test[:100])"
   ]
  },
  {
   "cell_type": "code",
   "execution_count": 50,
   "id": "e9d436d1",
   "metadata": {},
   "outputs": [
    {
     "name": "stderr",
     "output_type": "stream",
     "text": [
      "C:\\Users\\anshu\\AppData\\Local\\Programs\\Python\\Python310\\lib\\site-packages\\sklearn\\utils\\validation.py:767: FutureWarning: is_sparse is deprecated and will be removed in a future version. Check `isinstance(dtype, pd.SparseDtype)` instead.\n",
      "  if not hasattr(array, \"sparse\") and array.dtypes.apply(is_sparse).any():\n",
      "C:\\Users\\anshu\\AppData\\Local\\Programs\\Python\\Python310\\lib\\site-packages\\sklearn\\utils\\validation.py:605: FutureWarning: is_sparse is deprecated and will be removed in a future version. Check `isinstance(dtype, pd.SparseDtype)` instead.\n",
      "  if is_sparse(pd_dtype):\n",
      "C:\\Users\\anshu\\AppData\\Local\\Programs\\Python\\Python310\\lib\\site-packages\\sklearn\\utils\\validation.py:614: FutureWarning: is_sparse is deprecated and will be removed in a future version. Check `isinstance(dtype, pd.SparseDtype)` instead.\n",
      "  if is_sparse(pd_dtype) or not is_extension_array_dtype(pd_dtype):\n",
      "C:\\Users\\anshu\\AppData\\Local\\Programs\\Python\\Python310\\lib\\site-packages\\sklearn\\utils\\validation.py:605: FutureWarning: is_sparse is deprecated and will be removed in a future version. Check `isinstance(dtype, pd.SparseDtype)` instead.\n",
      "  if is_sparse(pd_dtype):\n",
      "C:\\Users\\anshu\\AppData\\Local\\Programs\\Python\\Python310\\lib\\site-packages\\sklearn\\utils\\validation.py:614: FutureWarning: is_sparse is deprecated and will be removed in a future version. Check `isinstance(dtype, pd.SparseDtype)` instead.\n",
      "  if is_sparse(pd_dtype) or not is_extension_array_dtype(pd_dtype):\n"
     ]
    },
    {
     "data": {
      "text/html": [
       "<style>#sk-container-id-3 {color: black;background-color: white;}#sk-container-id-3 pre{padding: 0;}#sk-container-id-3 div.sk-toggleable {background-color: white;}#sk-container-id-3 label.sk-toggleable__label {cursor: pointer;display: block;width: 100%;margin-bottom: 0;padding: 0.3em;box-sizing: border-box;text-align: center;}#sk-container-id-3 label.sk-toggleable__label-arrow:before {content: \"▸\";float: left;margin-right: 0.25em;color: #696969;}#sk-container-id-3 label.sk-toggleable__label-arrow:hover:before {color: black;}#sk-container-id-3 div.sk-estimator:hover label.sk-toggleable__label-arrow:before {color: black;}#sk-container-id-3 div.sk-toggleable__content {max-height: 0;max-width: 0;overflow: hidden;text-align: left;background-color: #f0f8ff;}#sk-container-id-3 div.sk-toggleable__content pre {margin: 0.2em;color: black;border-radius: 0.25em;background-color: #f0f8ff;}#sk-container-id-3 input.sk-toggleable__control:checked~div.sk-toggleable__content {max-height: 200px;max-width: 100%;overflow: auto;}#sk-container-id-3 input.sk-toggleable__control:checked~label.sk-toggleable__label-arrow:before {content: \"▾\";}#sk-container-id-3 div.sk-estimator input.sk-toggleable__control:checked~label.sk-toggleable__label {background-color: #d4ebff;}#sk-container-id-3 div.sk-label input.sk-toggleable__control:checked~label.sk-toggleable__label {background-color: #d4ebff;}#sk-container-id-3 input.sk-hidden--visually {border: 0;clip: rect(1px 1px 1px 1px);clip: rect(1px, 1px, 1px, 1px);height: 1px;margin: -1px;overflow: hidden;padding: 0;position: absolute;width: 1px;}#sk-container-id-3 div.sk-estimator {font-family: monospace;background-color: #f0f8ff;border: 1px dotted black;border-radius: 0.25em;box-sizing: border-box;margin-bottom: 0.5em;}#sk-container-id-3 div.sk-estimator:hover {background-color: #d4ebff;}#sk-container-id-3 div.sk-parallel-item::after {content: \"\";width: 100%;border-bottom: 1px solid gray;flex-grow: 1;}#sk-container-id-3 div.sk-label:hover label.sk-toggleable__label {background-color: #d4ebff;}#sk-container-id-3 div.sk-serial::before {content: \"\";position: absolute;border-left: 1px solid gray;box-sizing: border-box;top: 0;bottom: 0;left: 50%;z-index: 0;}#sk-container-id-3 div.sk-serial {display: flex;flex-direction: column;align-items: center;background-color: white;padding-right: 0.2em;padding-left: 0.2em;position: relative;}#sk-container-id-3 div.sk-item {position: relative;z-index: 1;}#sk-container-id-3 div.sk-parallel {display: flex;align-items: stretch;justify-content: center;background-color: white;position: relative;}#sk-container-id-3 div.sk-item::before, #sk-container-id-3 div.sk-parallel-item::before {content: \"\";position: absolute;border-left: 1px solid gray;box-sizing: border-box;top: 0;bottom: 0;left: 50%;z-index: -1;}#sk-container-id-3 div.sk-parallel-item {display: flex;flex-direction: column;z-index: 1;position: relative;background-color: white;}#sk-container-id-3 div.sk-parallel-item:first-child::after {align-self: flex-end;width: 50%;}#sk-container-id-3 div.sk-parallel-item:last-child::after {align-self: flex-start;width: 50%;}#sk-container-id-3 div.sk-parallel-item:only-child::after {width: 0;}#sk-container-id-3 div.sk-dashed-wrapped {border: 1px dashed gray;margin: 0 0.4em 0.5em 0.4em;box-sizing: border-box;padding-bottom: 0.4em;background-color: white;}#sk-container-id-3 div.sk-label label {font-family: monospace;font-weight: bold;display: inline-block;line-height: 1.2em;}#sk-container-id-3 div.sk-label-container {text-align: center;}#sk-container-id-3 div.sk-container {/* jupyter's `normalize.less` sets `[hidden] { display: none; }` but bootstrap.min.css set `[hidden] { display: none !important; }` so we also need the `!important` here to be able to override the default hidden behavior on the sphinx rendered scikit-learn.org. See: https://github.com/scikit-learn/scikit-learn/issues/21755 */display: inline-block !important;position: relative;}#sk-container-id-3 div.sk-text-repr-fallback {display: none;}</style><div id=\"sk-container-id-3\" class=\"sk-top-container\"><div class=\"sk-text-repr-fallback\"><pre>LinearRegression()</pre><b>In a Jupyter environment, please rerun this cell to show the HTML representation or trust the notebook. <br />On GitHub, the HTML representation is unable to render, please try loading this page with nbviewer.org.</b></div><div class=\"sk-container\" hidden><div class=\"sk-item\"><div class=\"sk-estimator sk-toggleable\"><input class=\"sk-toggleable__control sk-hidden--visually\" id=\"sk-estimator-id-3\" type=\"checkbox\" checked><label for=\"sk-estimator-id-3\" class=\"sk-toggleable__label sk-toggleable__label-arrow\">LinearRegression</label><div class=\"sk-toggleable__content\"><pre>LinearRegression()</pre></div></div></div></div></div>"
      ],
      "text/plain": [
       "LinearRegression()"
      ]
     },
     "execution_count": 50,
     "metadata": {},
     "output_type": "execute_result"
    }
   ],
   "source": [
    "model = LinearRegression()\n",
    "\n",
    "model.fit(x_train, y_train)"
   ]
  },
  {
   "cell_type": "code",
   "execution_count": 51,
   "id": "5d21b3df",
   "metadata": {},
   "outputs": [
    {
     "name": "stdout",
     "output_type": "stream",
     "text": [
      "The mean absolute error is :: 0.5023111871865955\n",
      "The mean squared error is :: 0.5081306655538393\n",
      "The r2 score is :: 0.8721683860241913\n"
     ]
    },
    {
     "name": "stderr",
     "output_type": "stream",
     "text": [
      "C:\\Users\\anshu\\AppData\\Local\\Programs\\Python\\Python310\\lib\\site-packages\\sklearn\\utils\\validation.py:767: FutureWarning: is_sparse is deprecated and will be removed in a future version. Check `isinstance(dtype, pd.SparseDtype)` instead.\n",
      "  if not hasattr(array, \"sparse\") and array.dtypes.apply(is_sparse).any():\n",
      "C:\\Users\\anshu\\AppData\\Local\\Programs\\Python\\Python310\\lib\\site-packages\\sklearn\\utils\\validation.py:605: FutureWarning: is_sparse is deprecated and will be removed in a future version. Check `isinstance(dtype, pd.SparseDtype)` instead.\n",
      "  if is_sparse(pd_dtype):\n",
      "C:\\Users\\anshu\\AppData\\Local\\Programs\\Python\\Python310\\lib\\site-packages\\sklearn\\utils\\validation.py:614: FutureWarning: is_sparse is deprecated and will be removed in a future version. Check `isinstance(dtype, pd.SparseDtype)` instead.\n",
      "  if is_sparse(pd_dtype) or not is_extension_array_dtype(pd_dtype):\n",
      "C:\\Users\\anshu\\AppData\\Local\\Programs\\Python\\Python310\\lib\\site-packages\\sklearn\\utils\\validation.py:605: FutureWarning: is_sparse is deprecated and will be removed in a future version. Check `isinstance(dtype, pd.SparseDtype)` instead.\n",
      "  if is_sparse(pd_dtype):\n",
      "C:\\Users\\anshu\\AppData\\Local\\Programs\\Python\\Python310\\lib\\site-packages\\sklearn\\utils\\validation.py:614: FutureWarning: is_sparse is deprecated and will be removed in a future version. Check `isinstance(dtype, pd.SparseDtype)` instead.\n",
      "  if is_sparse(pd_dtype) or not is_extension_array_dtype(pd_dtype):\n",
      "C:\\Users\\anshu\\AppData\\Local\\Programs\\Python\\Python310\\lib\\site-packages\\sklearn\\utils\\validation.py:605: FutureWarning: is_sparse is deprecated and will be removed in a future version. Check `isinstance(dtype, pd.SparseDtype)` instead.\n",
      "  if is_sparse(pd_dtype):\n",
      "C:\\Users\\anshu\\AppData\\Local\\Programs\\Python\\Python310\\lib\\site-packages\\sklearn\\utils\\validation.py:614: FutureWarning: is_sparse is deprecated and will be removed in a future version. Check `isinstance(dtype, pd.SparseDtype)` instead.\n",
      "  if is_sparse(pd_dtype) or not is_extension_array_dtype(pd_dtype):\n",
      "C:\\Users\\anshu\\AppData\\Local\\Programs\\Python\\Python310\\lib\\site-packages\\sklearn\\utils\\validation.py:605: FutureWarning: is_sparse is deprecated and will be removed in a future version. Check `isinstance(dtype, pd.SparseDtype)` instead.\n",
      "  if is_sparse(pd_dtype):\n",
      "C:\\Users\\anshu\\AppData\\Local\\Programs\\Python\\Python310\\lib\\site-packages\\sklearn\\utils\\validation.py:614: FutureWarning: is_sparse is deprecated and will be removed in a future version. Check `isinstance(dtype, pd.SparseDtype)` instead.\n",
      "  if is_sparse(pd_dtype) or not is_extension_array_dtype(pd_dtype):\n"
     ]
    }
   ],
   "source": [
    "y_pred = model.predict(x_test)\n",
    "mae = mean_absolute_error(y_test, y_pred)\n",
    "mse = mean_squared_error(y_test, y_pred)\n",
    "r2 = r2_score(y_test, y_pred)\n",
    "\n",
    "print(\"The mean absolute error is ::\", mae)\n",
    "print(\"The mean squared error is ::\", mse)\n",
    "print(\"The r2 score is ::\", r2)"
   ]
  },
  {
   "cell_type": "code",
   "execution_count": 52,
   "id": "4c3124da",
   "metadata": {},
   "outputs": [
    {
     "data": {
      "text/plain": [
       "['crop-yield-model.pkl']"
      ]
     },
     "execution_count": 52,
     "metadata": {},
     "output_type": "execute_result"
    }
   ],
   "source": [
    "joblib.dump(model,\"crop-yield-model.pkl\")"
   ]
  },
  {
   "cell_type": "code",
   "execution_count": null,
   "id": "dbdd1af2",
   "metadata": {},
   "outputs": [],
   "source": []
  }
 ],
 "metadata": {
  "kernelspec": {
   "display_name": "Python 3 (ipykernel)",
   "language": "python",
   "name": "python3"
  },
  "language_info": {
   "codemirror_mode": {
    "name": "ipython",
    "version": 3
   },
   "file_extension": ".py",
   "mimetype": "text/x-python",
   "name": "python",
   "nbconvert_exporter": "python",
   "pygments_lexer": "ipython3",
   "version": "3.10.11"
  }
 },
 "nbformat": 4,
 "nbformat_minor": 5
}
